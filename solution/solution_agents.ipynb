{
 "cells": [
  {
   "cell_type": "markdown",
   "metadata": {},
   "source": [
    "# Buildling an LLM Agent with LangChain \n",
    "## Solutions: Agents\n",
    "\n",
    "\n",
    "**Content:**\n",
    "\n",
    "1. [Exercise 1: Explore the agent's output](#1)\n",
    "2. [Exercise 2 : Build your own agent](#2)\n",
    "3. [Exercise 3: Invoke as many tools as you can](#3)\n",
    "4. [Exercise 4 : Optimize the agent prompt](#4)"
   ]
  },
  {
   "cell_type": "code",
   "execution_count": 4,
   "metadata": {},
   "outputs": [],
   "source": [
    "import sys\n",
    "import os\n",
    "current_dir = os.path.dirname(os.path.abspath('.'))\n",
    "folder_b_path = os.path.join(current_dir, 'helper_functions')\n",
    "sys.path.append(current_dir)\n",
    "\n",
    "from helper_functions.keys import OPENAI_KEY\n",
    "from helper_functions.tools import my_own_wiki_tool, weather_tool, image_tool\n",
    "\n",
    "from langchain.agents import create_tool_calling_agent # set up the agent\n",
    "from langchain.agents import AgentExecutor # execute agent\n",
    "from langchain_openai import ChatOpenAI # call openAI as agent llm\n",
    "from langchain import hub\n",
    "from langchain_core.prompts import ChatPromptTemplate, MessagesPlaceholder"
   ]
  },
  {
   "cell_type": "markdown",
   "metadata": {},
   "source": [
    "---"
   ]
  },
  {
   "cell_type": "markdown",
   "metadata": {},
   "source": [
    "#### Exercise 1: Explore the agent's output <a id='1'></a>\n",
    "\n",
    "**TASK:**\n",
    "In the examples below, read the output to observe how the Agent reasons and decides to use a different tool based on the context."
   ]
  },
  {
   "cell_type": "code",
   "execution_count": 5,
   "metadata": {},
   "outputs": [
    {
     "name": "stdout",
     "output_type": "stream",
     "text": [
      "<class 'langchain_core.prompts.chat.ChatPromptTemplate'>\n",
      "Your agent is ready.\n"
     ]
    }
   ],
   "source": [
    "# Agent\n",
    "\n",
    "# Load Tools\n",
    "tools = [my_own_wiki_tool, weather_tool, image_tool]\n",
    "\n",
    "# Load LLM\n",
    "llm = ChatOpenAI(model=\"gpt-3.5-turbo-0125\", temperature=0, api_key=OPENAI_KEY)\n",
    "\n",
    "# Get the prompt to use - you can modify this! With this you let the agent know what its purpose is.\n",
    "prompt = hub.pull(\"hwchase17/openai-functions-agent\")\n",
    "prompt.messages\n",
    "print(type(prompt))\n",
    "\n",
    "# Define  the agent (load the LLM and the list of tools)\n",
    "agent = create_tool_calling_agent(llm = llm, tools = tools, prompt = prompt)\n",
    "agent_executor = AgentExecutor(agent=agent, tools=tools, verbose=True)\n",
    "\n",
    "print(\"Your agent is ready.\")\n"
   ]
  },
  {
   "cell_type": "markdown",
   "metadata": {},
   "source": [
    "**SOLUTION:**"
   ]
  },
  {
   "cell_type": "code",
   "execution_count": 9,
   "metadata": {},
   "outputs": [
    {
     "name": "stdout",
     "output_type": "stream",
     "text": [
      "Question 1: Where is Amsterdam?\n",
      "\n",
      "\n",
      "\u001b[1m> Entering new AgentExecutor chain...\u001b[0m\n",
      "\u001b[32;1m\u001b[1;3m\n",
      "Invoking: `wikipedia` with `{'query': 'Amsterdam'}`\n",
      "\n",
      "\n",
      "\u001b[0m\u001b[36;1m\u001b[1;3mPage: Amsterdam\n",
      "Summary: Amsterdam ( AM-stər-dam, UK also  AM-stər-DAM, Dutch: [ˌɑmstərˈdɑm] ; literally, \"The Dam on the River Amstel\") is the capital and most populated city of the Netherlands. It has a population of 921,402 within the city proper, 1,457,018 in the urban area and 2,480,394 in the metropolitan area. Located in the Dutch province of North Holland, Amsterdam is colloquially referred to as the \"Venice of the North\", for its large number of canals, now a UNESCO World Heritage Site.\n",
      "Amsterdam was founded at the mouth of the Amstel River, which was dammed to control flooding. Originally a small fishing village in the 12th century, Amsterdam became a major world port during the Dutch Golden Age of the 17th century, when the Netherlands was an economic powerhouse. Amsterdam was the leading centre for finance and trade, as well as a hub of secular art production. In the 19th and 20th centuries, the city expanded and new neighborhoods and suburbs were built. The city has a long tradition of openness, liberalism, and tolerance. Cycling is key to the city's modern character, and there are numerous biking paths and lanes spread throughout.\n",
      "Amsterdam's main attractions include its historic canals; the Rijksmuseum, the state museum with Dutch Golden Age art; the Van Gogh Museum; the Dam Square, where the Royal Palace of Amsterdam and former city hall are located; the Amsterdam Museum; Stedelijk Museum, with modern art; the Concertgebouw concert hall; the Anne Frank House; the Scheepvaartmuseum, the Natura Artis Magistra; Hortus Botanicus, NEMO, the red-light district and cannabis coffee shops. The city is known for its nightlife and festival activity, with several nightclubs among the world's most famous. Its artistic heritage, canals and narrow canal houses with gabled façades, well-preserved legacies of the city's 17th-century Golden Age, have attracted millions of visitors annually.\n",
      "The Amsterdam Stock Exchange, founded in 1602, is considered the oldest \"modern\" securities market stock exchange in the world. As the commercial capital of the Netherlands and one of the top financial centres in Europe, Amsterdam is considered an alpha world city. The city is the cultural capital of the Netherlands. Many large Dutch institutions have their headquarters in the city. Many of the world's largest companies are based here or have established their European headquarters in the city, such as technology companies Uber, Netflix and Tesla. In 2022, Amsterdam was ranked the ninth-best city to live in by the Economist Intelligence Unit and 12th on quality of living for environment and infrastructure by Mercer. The city was ranked 4th place globally as top tech hub in 2019. The Port of Amsterdam is the fifth largest in Europe. The KLM hub and Amsterdam's main airport, Schiphol, is the busiest airport in the Netherlands, third in Europe, and 11th in the world. The Dutch capital is one of the most multicultural cities in the world, with about 180 nationalities represented. Immigration and ethnic segregation in Amsterdam is a current issue.\n",
      "Amsterdam's notable residents throughout its history include painters Rembrandt and Vincent van Gogh, 17th-century philosophers Baruch Spinoza, John Locke, René Descartes, and the Holocaust victim and diarist Anne Frank.\u001b[0m\u001b[32;1m\u001b[1;3mAmsterdam is the capital and most populated city of the Netherlands. It is located in the Dutch province of North Holland. Amsterdam is colloquially referred to as the \"Venice of the North\" due to its large number of canals, which are now a UNESCO World Heritage Site.\u001b[0m\n",
      "\n",
      "\u001b[1m> Finished chain.\u001b[0m\n"
     ]
    },
    {
     "data": {
      "text/plain": [
       "{'input': 'Where is Amsterdam?',\n",
       " 'output': 'Amsterdam is the capital and most populated city of the Netherlands. It is located in the Dutch province of North Holland. Amsterdam is colloquially referred to as the \"Venice of the North\" due to its large number of canals, which are now a UNESCO World Heritage Site.'}"
      ]
     },
     "execution_count": 9,
     "metadata": {},
     "output_type": "execute_result"
    }
   ],
   "source": [
    "question_1 = \"Where is Amsterdam?\"\n",
    "\n",
    "\n",
    "print(f\"Question 1: {question_1}\")\n",
    "agent_executor.invoke({\"input\": question_1})"
   ]
  },
  {
   "cell_type": "code",
   "execution_count": 4,
   "metadata": {},
   "outputs": [
    {
     "name": "stdout",
     "output_type": "stream",
     "text": [
      "Question 1: What is the current temperature in Amsterdam?\n",
      "\n",
      "\n",
      "\u001b[1m> Entering new AgentExecutor chain...\u001b[0m\n",
      "\u001b[32;1m\u001b[1;3m\n",
      "Invoking: `weather` with `{'city': 'Amsterdam'}`\n",
      "\n",
      "\n",
      "\u001b[0m\u001b[33;1m\u001b[1;3mCurrent temperature in Amsterdam: 16.1°C\u001b[0m\u001b[32;1m\u001b[1;3mThe current temperature in Amsterdam is 16.1°C.\u001b[0m\n",
      "\n",
      "\u001b[1m> Finished chain.\u001b[0m\n"
     ]
    },
    {
     "data": {
      "text/plain": [
       "{'input': 'What is the current temperature in Amsterdam?',\n",
       " 'output': 'The current temperature in Amsterdam is 16.1°C.'}"
      ]
     },
     "execution_count": 4,
     "metadata": {},
     "output_type": "execute_result"
    }
   ],
   "source": [
    "question_2 = \"What is the current temperature in Amsterdam?\"\n",
    "\n",
    "print(f\"Question 1: {question_2}\")\n",
    "agent_executor.invoke({\"input\": question_2})"
   ]
  },
  {
   "cell_type": "code",
   "execution_count": 6,
   "metadata": {},
   "outputs": [
    {
     "name": "stdout",
     "output_type": "stream",
     "text": [
      "Question 1: What should I visit in Amsterdam? Show me an photo\n",
      "\n",
      "\n",
      "\u001b[1m> Entering new AgentExecutor chain...\u001b[0m\n",
      "\u001b[32;1m\u001b[1;3m\n",
      "Invoking: `wikipedia` with `{'query': 'Tourist attractions in Amsterdam'}`\n",
      "\n",
      "\n",
      "\u001b[0m\u001b[36;1m\u001b[1;3mPage: List of tourist attractions in Amsterdam\n",
      "Summary: Amsterdam, one of Europe's capitals, has many attractions for visitors. The city's most famous sight is the 17th-century canals of Amsterdam (in Dutch: grachtengordel), located in the heart of Amsterdam, have been added to the UNESCO World Heritage List.\u001b[0m\u001b[32;1m\u001b[1;3m\n",
      "Invoking: `create_image` with `{'payload': '17th-century canals of Amsterdam'}`\n",
      "\n",
      "\n",
      "\u001b[0m\u001b[38;5;200m\u001b[1;3mimages/image_17th-century_canals_of_Amsterdam.jpg \u001b[0m\u001b[32;1m\u001b[1;3mAmsterdam is known for its 17th-century canals, which are a UNESCO World Heritage site. Here is a photo of the canals for you to see: \n",
      "\n",
      "![17th-century canals of Amsterdam](images/image_17th-century_canals_of_Amsterdam.jpg)\u001b[0m\n",
      "\n",
      "\u001b[1m> Finished chain.\u001b[0m\n"
     ]
    },
    {
     "data": {
      "text/plain": [
       "{'input': 'What should I visit in Amsterdam? Show me an photo',\n",
       " 'output': 'Amsterdam is known for its 17th-century canals, which are a UNESCO World Heritage site. Here is a photo of the canals for you to see: \\n\\n![17th-century canals of Amsterdam](images/image_17th-century_canals_of_Amsterdam.jpg)'}"
      ]
     },
     "execution_count": 6,
     "metadata": {},
     "output_type": "execute_result"
    }
   ],
   "source": [
    "question_3 = \"What should I visit in Amsterdam? Show me an photo\"\n",
    "\n",
    "print(f\"Question 1: {question_3}\")\n",
    "agent_executor.invoke({\"input\": question_3})"
   ]
  },
  {
   "cell_type": "markdown",
   "metadata": {},
   "source": [
    "---"
   ]
  },
  {
   "cell_type": "markdown",
   "metadata": {},
   "source": [
    "#### Exercise 2 : Build your own agent  <a id='2'></a>\n",
    "The goal is to build an agent that uses the tools you previously developed. Feel free to also use the pre-made tools, available at `helper_functions/tools.py`\n",
    "\n",
    "**TASK**: \n",
    "- A template for defining an agent and an API key are already provided to you. Build an agent by using a list of tools, and the LLM `gpt-3.5-turbo-0125`. A template for this agent follows below.\n",
    "- Test if the agent gives an output.\n",
    "- Observe how the output changes if you provide less tools in your list of tools."
   ]
  },
  {
   "cell_type": "markdown",
   "metadata": {},
   "source": [
    "**SOLUTION:**"
   ]
  },
  {
   "cell_type": "code",
   "execution_count": 16,
   "metadata": {},
   "outputs": [
    {
     "name": "stdout",
     "output_type": "stream",
     "text": [
      "<class 'langchain_core.prompts.chat.ChatPromptTemplate'>\n",
      "Your agent is ready.\n"
     ]
    }
   ],
   "source": [
    "# Component 1 (Tools): Load Tools\n",
    "tools = [\n",
    "    my_own_wiki_tool, weather_tool, image_tool\n",
    "]\n",
    "\n",
    "# Component 2 (LLM): Load LLM\n",
    "llm = ChatOpenAI(model=\"gpt-3.5-turbo-0125\", \n",
    "                 temperature=0, \n",
    "                 api_key=OPENAI_KEY)\n",
    "\n",
    "# Component 3 (Prompt): Let the agent know what its purpose is. For now, let's keep it as is.\n",
    "prompt = hub.pull(\"hwchase17/openai-functions-agent\")\n",
    "prompt.messages\n",
    "print(type(prompt))\n",
    "\n",
    "# Define the agent and agent executor (load the LLM, the list of tools, and the prompt (descripiton))\n",
    "\n",
    "agent = create_tool_calling_agent(\n",
    "    llm = llm, tools = tools, prompt = prompt\n",
    "    )\n",
    "agent_executor = AgentExecutor(\n",
    "    agent=agent, tools=tools, verbose=True\n",
    ")\n",
    "\n",
    "print(\"Your agent is ready.\")\n"
   ]
  },
  {
   "cell_type": "markdown",
   "metadata": {},
   "source": [
    "---"
   ]
  },
  {
   "cell_type": "markdown",
   "metadata": {},
   "source": [
    "#### Exercise 3: Invoke as many tools as you can  <a id='3'></a>\n",
    "\n",
    "**TASK:**\n",
    "Try various questions to call the agent and follow the generated reasoning process in the response. The goal is to call the agent in a way thay it will use as many tools as possible. **Let's see who can reach the highest number of tools used with a single prompt!**"
   ]
  },
  {
   "cell_type": "markdown",
   "metadata": {},
   "source": [
    "**SOLUTION:** (invoking 2 tools: Wiki and Weather. Can you reach more?)"
   ]
  },
  {
   "cell_type": "code",
   "execution_count": 17,
   "metadata": {},
   "outputs": [
    {
     "name": "stdout",
     "output_type": "stream",
     "text": [
      "Question: \n",
      "Where is Amsterdam and what is the weather like?\n",
      "\n",
      "\n",
      "\n",
      "\u001b[1m> Entering new AgentExecutor chain...\u001b[0m\n",
      "\u001b[32;1m\u001b[1;3m\n",
      "Invoking: `wikipedia` with `{'query': 'Amsterdam'}`\n",
      "\n",
      "\n",
      "\u001b[0m\u001b[36;1m\u001b[1;3mPage: Amsterdam\n",
      "Summary: Amsterdam ( AM-stər-dam, UK also  AM-stər-DAM, Dutch: [ˌɑmstərˈdɑm] ; literally, \"The Dam on the River Amstel\") is the capital and most populated city of the Netherlands. It has a population of 921,402 within the city proper, 1,457,018 in the urban area and 2,480,394 in the metropolitan area. Located in the Dutch province of North Holland, Amsterdam is colloquially referred to as the \"Venice of the North\", for its large number of canals, now a UNESCO World Heritage Site.\n",
      "Amsterdam was founded at the mouth of the Amstel River, which was dammed to control flooding. Originally a small fishing village in the 12th century, Amsterdam became a major world port during the Dutch Golden Age of the 17th century, when the Netherlands was an economic powerhouse. Amsterdam was the leading centre for finance and trade, as well as a hub of secular art production. In the 19th and 20th centuries, the city expanded and new neighborhoods and suburbs were built. The city has a long tradition of openness, liberalism, and tolerance. Cycling is key to the city's modern character, and there are numerous biking paths and lanes spread throughout.\n",
      "Amsterdam's main attractions include its historic canals; the Rijksmuseum, the state museum with Dutch Golden Age art; the Van Gogh Museum; the Dam Square, where the Royal Palace of Amsterdam and former city hall are located; the Amsterdam Museum; Stedelijk Museum, with modern art; the Concertgebouw concert hall; the Anne Frank House; the Scheepvaartmuseum, the Natura Artis Magistra; Hortus Botanicus, NEMO, the red-light district and cannabis coffee shops. The city is known for its nightlife and festival activity, with several nightclubs among the world's most famous. Its artistic heritage, canals and narrow canal houses with gabled façades, well-preserved legacies of the city's 17th-century Golden Age, have attracted millions of visitors annually.\n",
      "The Amsterdam Stock Exchange, founded in 1602, is considered the oldest \"modern\" securities market stock exchange in the world. As the commercial capital of the Netherlands and one of the top financial centres in Europe, Amsterdam is considered an alpha world city. The city is the cultural capital of the Netherlands. Many large Dutch institutions have their headquarters in the city. Many of the world's largest companies are based here or have established their European headquarters in the city, such as technology companies Uber, Netflix and Tesla. In 2022, Amsterdam was ranked the ninth-best city to live in by the Economist Intelligence Unit and 12th on quality of living for environment and infrastructure by Mercer. The city was ranked 4th place globally as top tech hub in 2019. The Port of Amsterdam is the fifth largest in Europe. The KLM hub and Amsterdam's main airport, Schiphol, is the busiest airport in the Netherlands, third in Europe, and 11th in the world. The Dutch capital is one of the most multicultural cities in the world, with about 180 nationalities represented. Immigration and ethnic segregation in Amsterdam is a current issue.\n",
      "Amsterdam's notable residents throughout its history include painters Rembrandt and Vincent van Gogh, 17th-century philosophers Baruch Spinoza, John Locke, René Descartes, and the Holocaust victim and diarist Anne Frank.\u001b[0m\u001b[32;1m\u001b[1;3m\n",
      "Invoking: `weather` with `{'city': 'Amsterdam'}`\n",
      "\n",
      "\n",
      "\u001b[0m\u001b[33;1m\u001b[1;3mCurrent temperature in Amsterdam: 16.1°C\u001b[0m\u001b[32;1m\u001b[1;3mAmsterdam is the capital and most populated city of the Netherlands. It is located in the Dutch province of North Holland and is colloquially referred to as the \"Venice of the North\" due to its large number of canals, which are now a UNESCO World Heritage Site. Amsterdam has a population of 921,402 within the city proper, 1,457,018 in the urban area, and 2,480,394 in the metropolitan area.\n",
      "\n",
      "Some of the main attractions in Amsterdam include historic canals, the Rijksmuseum, the Van Gogh Museum, Dam Square, the Royal Palace of Amsterdam, the Anne Frank House, and the red-light district. The city is known for its nightlife, festival activity, and artistic heritage.\n",
      "\n",
      "The current temperature in Amsterdam is 16.1°C.\u001b[0m\n",
      "\n",
      "\u001b[1m> Finished chain.\u001b[0m\n"
     ]
    },
    {
     "data": {
      "text/plain": [
       "{'input': '\\nWhere is Amsterdam and what is the weather like?\\n',\n",
       " 'output': 'Amsterdam is the capital and most populated city of the Netherlands. It is located in the Dutch province of North Holland and is colloquially referred to as the \"Venice of the North\" due to its large number of canals, which are now a UNESCO World Heritage Site. Amsterdam has a population of 921,402 within the city proper, 1,457,018 in the urban area, and 2,480,394 in the metropolitan area.\\n\\nSome of the main attractions in Amsterdam include historic canals, the Rijksmuseum, the Van Gogh Museum, Dam Square, the Royal Palace of Amsterdam, the Anne Frank House, and the red-light district. The city is known for its nightlife, festival activity, and artistic heritage.\\n\\nThe current temperature in Amsterdam is 16.1°C.'}"
      ]
     },
     "execution_count": 17,
     "metadata": {},
     "output_type": "execute_result"
    }
   ],
   "source": [
    "question = \"\"\"\n",
    "Where is Amsterdam and what is the weather like?\n",
    "\"\"\"\n",
    "\n",
    "print(f\"Question: {question}\")\n",
    "agent_executor.invoke({\"input\": question})"
   ]
  },
  {
   "cell_type": "markdown",
   "metadata": {},
   "source": [
    "---"
   ]
  },
  {
   "cell_type": "markdown",
   "metadata": {},
   "source": [
    "#### Exercise 4 : Optimize the agent prompt  <a id='4'></a>\n",
    "So far we played around with the provided LLM and list of tools. Now let's look into the 3rd component: the Agent prompt. \n",
    "\n",
    "**TASK:**\n",
    "- Modify the agent prompt and observe the difference in the output. "
   ]
  },
  {
   "cell_type": "markdown",
   "metadata": {},
   "source": [
    "**SOLUTION:**\n",
    "\n",
    "In this solution we assume you are building an agent for a travel agency, and you want the agent to help you motivate people to visit a city."
   ]
  },
  {
   "cell_type": "code",
   "execution_count": 18,
   "metadata": {},
   "outputs": [
    {
     "name": "stdout",
     "output_type": "stream",
     "text": [
      "Your agent is ready.\n"
     ]
    }
   ],
   "source": [
    "# Component 1 (Tools): Load Tools from Exercise 1\n",
    "tools = tools \n",
    "\n",
    "# Component 2 (LLM): Load LLM form Exercise 1\n",
    "llm = llm\n",
    "\n",
    "your_prompt = \"\"\"\"\n",
    "    You are a helpful assisstant, trying to motivate people to go on holiday.\n",
    "\"\"\"\n",
    "\n",
    "# Component 3 (Prompt): Create your own prompt to instruct the Agent about its purpose.\n",
    "prompt = ChatPromptTemplate.from_messages([\n",
    "    (\"system\", your_prompt),\n",
    "    (\"human\", \"{input}\"),\n",
    "    MessagesPlaceholder(variable_name=\"agent_scratchpad\")\n",
    "])\n",
    "prompt.messages\n",
    "\n",
    "\n",
    "# Define the agent and agent executor (load the LLM, the list of tools, and the prompt (descripiton))\n",
    "# This is same as in Exercise 1\n",
    "agent = create_tool_calling_agent(\n",
    "    llm = llm, tools = tools, prompt = prompt\n",
    "    )\n",
    "agent_executor = AgentExecutor(\n",
    "    agent=agent, tools=tools, verbose=True\n",
    ")\n",
    "\n",
    "print(\"Your agent is ready.\")\n"
   ]
  },
  {
   "cell_type": "code",
   "execution_count": 19,
   "metadata": {},
   "outputs": [
    {
     "name": "stdout",
     "output_type": "stream",
     "text": [
      "Question: \n",
      "Where is Amsterdam and what is the weather like?\n",
      "\n",
      "\n",
      "\n",
      "\u001b[1m> Entering new AgentExecutor chain...\u001b[0m\n",
      "\u001b[32;1m\u001b[1;3m\n",
      "Invoking: `wikipedia` with `{'query': 'Amsterdam'}`\n",
      "\n",
      "\n",
      "\u001b[0m\u001b[36;1m\u001b[1;3mPage: Amsterdam\n",
      "Summary: Amsterdam ( AM-stər-dam, UK also  AM-stər-DAM, Dutch: [ˌɑmstərˈdɑm] ; literally, \"The Dam on the River Amstel\") is the capital and most populated city of the Netherlands. It has a population of 921,402 within the city proper, 1,457,018 in the urban area and 2,480,394 in the metropolitan area. Located in the Dutch province of North Holland, Amsterdam is colloquially referred to as the \"Venice of the North\", for its large number of canals, now a UNESCO World Heritage Site.\n",
      "Amsterdam was founded at the mouth of the Amstel River, which was dammed to control flooding. Originally a small fishing village in the 12th century, Amsterdam became a major world port during the Dutch Golden Age of the 17th century, when the Netherlands was an economic powerhouse. Amsterdam was the leading centre for finance and trade, as well as a hub of secular art production. In the 19th and 20th centuries, the city expanded and new neighborhoods and suburbs were built. The city has a long tradition of openness, liberalism, and tolerance. Cycling is key to the city's modern character, and there are numerous biking paths and lanes spread throughout.\n",
      "Amsterdam's main attractions include its historic canals; the Rijksmuseum, the state museum with Dutch Golden Age art; the Van Gogh Museum; the Dam Square, where the Royal Palace of Amsterdam and former city hall are located; the Amsterdam Museum; Stedelijk Museum, with modern art; the Concertgebouw concert hall; the Anne Frank House; the Scheepvaartmuseum, the Natura Artis Magistra; Hortus Botanicus, NEMO, the red-light district and cannabis coffee shops. The city is known for its nightlife and festival activity, with several nightclubs among the world's most famous. Its artistic heritage, canals and narrow canal houses with gabled façades, well-preserved legacies of the city's 17th-century Golden Age, have attracted millions of visitors annually.\n",
      "The Amsterdam Stock Exchange, founded in 1602, is considered the oldest \"modern\" securities market stock exchange in the world. As the commercial capital of the Netherlands and one of the top financial centres in Europe, Amsterdam is considered an alpha world city. The city is the cultural capital of the Netherlands. Many large Dutch institutions have their headquarters in the city. Many of the world's largest companies are based here or have established their European headquarters in the city, such as technology companies Uber, Netflix and Tesla. In 2022, Amsterdam was ranked the ninth-best city to live in by the Economist Intelligence Unit and 12th on quality of living for environment and infrastructure by Mercer. The city was ranked 4th place globally as top tech hub in 2019. The Port of Amsterdam is the fifth largest in Europe. The KLM hub and Amsterdam's main airport, Schiphol, is the busiest airport in the Netherlands, third in Europe, and 11th in the world. The Dutch capital is one of the most multicultural cities in the world, with about 180 nationalities represented. Immigration and ethnic segregation in Amsterdam is a current issue.\n",
      "Amsterdam's notable residents throughout its history include painters Rembrandt and Vincent van Gogh, 17th-century philosophers Baruch Spinoza, John Locke, René Descartes, and the Holocaust victim and diarist Anne Frank.\u001b[0m\u001b[32;1m\u001b[1;3m\n",
      "Invoking: `weather` with `{'city': 'Amsterdam'}`\n",
      "\n",
      "\n",
      "\u001b[0m\u001b[33;1m\u001b[1;3mCurrent temperature in Amsterdam: 16.1°C\u001b[0m\u001b[32;1m\u001b[1;3mAmsterdam is the capital and most populated city of the Netherlands. It is located in the Dutch province of North Holland and is colloquially referred to as the \"Venice of the North\" due to its large number of canals, which are now a UNESCO World Heritage Site. Amsterdam has a rich history dating back to the 12th century and was a major world port during the Dutch Golden Age of the 17th century.\n",
      "\n",
      "Some of the main attractions in Amsterdam include historic canals, the Rijksmuseum, the Van Gogh Museum, Dam Square, the Anne Frank House, and the red-light district. The city is known for its nightlife, festivals, and cultural heritage.\n",
      "\n",
      "The current temperature in Amsterdam is 16.1°C. It's a great time to visit and explore this vibrant city!\u001b[0m\n",
      "\n",
      "\u001b[1m> Finished chain.\u001b[0m\n"
     ]
    },
    {
     "data": {
      "text/plain": [
       "{'input': '\\nWhere is Amsterdam and what is the weather like?\\n',\n",
       " 'output': 'Amsterdam is the capital and most populated city of the Netherlands. It is located in the Dutch province of North Holland and is colloquially referred to as the \"Venice of the North\" due to its large number of canals, which are now a UNESCO World Heritage Site. Amsterdam has a rich history dating back to the 12th century and was a major world port during the Dutch Golden Age of the 17th century.\\n\\nSome of the main attractions in Amsterdam include historic canals, the Rijksmuseum, the Van Gogh Museum, Dam Square, the Anne Frank House, and the red-light district. The city is known for its nightlife, festivals, and cultural heritage.\\n\\nThe current temperature in Amsterdam is 16.1°C. It\\'s a great time to visit and explore this vibrant city!'}"
      ]
     },
     "execution_count": 19,
     "metadata": {},
     "output_type": "execute_result"
    }
   ],
   "source": [
    "# Observe how the same question from before is answered differently with the different prompt.\n",
    "print(f\"Question: {question}\")\n",
    "agent_executor.invoke({\"input\": question})"
   ]
  },
  {
   "cell_type": "markdown",
   "metadata": {},
   "source": [
    "---"
   ]
  }
 ],
 "metadata": {
  "kernelspec": {
   "display_name": "venv",
   "language": "python",
   "name": "python3"
  },
  "language_info": {
   "codemirror_mode": {
    "name": "ipython",
    "version": 3
   },
   "file_extension": ".py",
   "mimetype": "text/x-python",
   "name": "python",
   "nbconvert_exporter": "python",
   "pygments_lexer": "ipython3",
   "version": "3.10.9"
  }
 },
 "nbformat": 4,
 "nbformat_minor": 2
}
