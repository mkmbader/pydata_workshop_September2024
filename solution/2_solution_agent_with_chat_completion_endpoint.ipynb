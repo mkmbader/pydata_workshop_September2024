{
 "cells": [
  {
   "cell_type": "markdown",
   "metadata": {},
   "source": [
    "# An advanced look at LLM Agents\n",
    "## Notebook 2: Building an agent using the GPT API chat completion endpoint\n",
    "---\n",
    "\n",
    "Previously, we relied on LangChain to to build the agent. However, this is not necessary, since an agent is nothing more than a fancy while loop. \n",
    "\n",
    "**The goal** \n",
    "\n",
    "With this notebook you will see what an agent is under the hood, and you can build it based on the LLM output\n",
    "\n",
    "🌟 So ... let us begin!  "
   ]
  },
  {
   "cell_type": "markdown",
   "metadata": {},
   "source": [
    "**Contents:**\n",
    "\n",
    "1. [Exercise 1: New tool format](#1)\n",
    "2. [Exercise 2: String vs function call response](#2)\n",
    "3. [Exercise 3: Understanding the agent while-loop](#3)"
   ]
  },
  {
   "cell_type": "code",
   "execution_count": 1,
   "metadata": {},
   "outputs": [],
   "source": [
    "import sys\n",
    "import os\n",
    "current_dir = os.path.dirname(os.path.abspath('.'))\n",
    "folder_b_path = os.path.join(current_dir, 'helper_functions')\n",
    "sys.path.append(current_dir)\n",
    "\n",
    "from helper_functions.tools import my_own_wiki_tool, weather_tool\n",
    "from helper_functions.keys import client\n",
    "import json"
   ]
  },
  {
   "cell_type": "markdown",
   "metadata": {},
   "source": [
    "---"
   ]
  },
  {
   "cell_type": "markdown",
   "metadata": {},
   "source": [
    "## The tools\n",
    "\n",
    "When querying OpenAI's API, tools are called via **function calling** (see the API documentation on function calling [here](https://platform.openai.com/docs/assistants/tools/function-calling/quickstart)). Functions have to be passed in JSON format, which we will explore below.\n"
   ]
  },
  {
   "cell_type": "markdown",
   "metadata": {},
   "source": [
    "#### Exercise 1: New tool format <a id='1'></a>\n",
    "\n",
    "First, we'll look at an example of how to format the `my_own_wiki_tool` into a function json, then you'll format the `weather_tool` into a function json the same way.\n",
    "\n",
    "**TASK:**  \n",
    "Compile the next two cells and have a look at the example. Do you understand the output?"
   ]
  },
  {
   "cell_type": "code",
   "execution_count": 2,
   "metadata": {},
   "outputs": [
    {
     "name": "stdout",
     "output_type": "stream",
     "text": [
      "name:  wikipedia\n",
      "description:  A wrapper around Wikipedia. Useful for when you need to answer general questions about people, places, companies, facts, historical events, or other subjects. Input should be a search query.\n",
      "arguments:  {'query': {'title': 'Query', 'description': 'Input search query', 'type': 'string'}}\n"
     ]
    }
   ],
   "source": [
    "# Example: print attributes of my_own_wiki_tool\n",
    "\n",
    "print('name: ', my_own_wiki_tool.name)\n",
    "print('description: ', my_own_wiki_tool.description)\n",
    "print('arguments: ', my_own_wiki_tool.args)"
   ]
  },
  {
   "cell_type": "code",
   "execution_count": 3,
   "metadata": {},
   "outputs": [],
   "source": [
    "# Example: json format of the my_own_wiki_tool\n",
    "\n",
    "my_own_wiki_tool_json = {\n",
    "    \"type\": \"function\",\n",
    "    \"function\": {\n",
    "        \"name\": my_own_wiki_tool.name,\n",
    "        \"description\": my_own_wiki_tool.description,\n",
    "        \"parameters\": {\n",
    "            \"type\": \"object\",\n",
    "            # below all individual function parameters need to be listed\n",
    "            \"properties\": {\n",
    "                'query':{\n",
    "                    'description':'Input search query.',\n",
    "                    'type':'string',\n",
    "                }\n",
    "            },\n",
    "            \"required\": ['query']\n",
    "        },\n",
    "    },\n",
    "}\n"
   ]
  },
  {
   "cell_type": "markdown",
   "metadata": {},
   "source": [
    "**TASK:**  \n",
    "Using the example above for guidance, create the json format for the weather tool. If you have trouble filling in the attributes, first print them from the tool."
   ]
  },
  {
   "cell_type": "code",
   "execution_count": 4,
   "metadata": {},
   "outputs": [],
   "source": [
    "weather_tool_json = {\n",
    "    \"type\": \"function\",\n",
    "    \"function\": {\n",
    "        \"name\": weather_tool.name,\n",
    "        \"description\": weather_tool.description,\n",
    "        \"parameters\": {\n",
    "            \"type\": \"object\",\n",
    "            # below all individual function parameters need to be listed\n",
    "            \"properties\": {\n",
    "                'city':{\n",
    "                    'description':'city name',\n",
    "                    'type':'string',\n",
    "                }\n",
    "            },\n",
    "            \"required\": ['query']\n",
    "        },\n",
    "    },\n",
    "}"
   ]
  },
  {
   "cell_type": "markdown",
   "metadata": {},
   "source": [
    "Next, the jsonized functions are combined in a list, while the actual tools are stored in a dictionary. After this we have prepared the callable functions and are ready to interact with the chat completions endpoint.\n",
    "\n",
    "**TASK:**  \n",
    "Add the `weather_tool` by completing the code below"
   ]
  },
  {
   "cell_type": "code",
   "execution_count": 5,
   "metadata": {},
   "outputs": [],
   "source": [
    "# callable functions \n",
    "callable_functions = [my_own_wiki_tool_json, weather_tool_json]\n",
    "\n",
    "# Store executable functions with their name in dictionary\n",
    "available_functions = {\n",
    "    my_own_wiki_tool.name :my_own_wiki_tool, \n",
    "    weather_tool.name: weather_tool\n",
    "    }"
   ]
  },
  {
   "cell_type": "markdown",
   "metadata": {},
   "source": [
    "---\n",
    "\n",
    "## The LLM response to input questions\n",
    "\n",
    "The LLM can respond with two types of answers to input queries:\n",
    "* a **string** that answers the question, \n",
    "* a **function-call** object, which contains information on which function to call with which arguments.\n",
    "\n",
    "The second one can be used to execute function calls."
   ]
  },
  {
   "cell_type": "markdown",
   "metadata": {},
   "source": [
    "#### Exercise 2: String vs function call response <a id='2'></a>\n",
    "\n",
    "**TASK:**\n",
    "Compile both questions and compare the answers. Do you understand the difference?\n"
   ]
  },
  {
   "cell_type": "code",
   "execution_count": 6,
   "metadata": {},
   "outputs": [
    {
     "name": "stdout",
     "output_type": "stream",
     "text": [
      "Question: what is the meaning of life?\n",
      "Answer: The meaning of life is a deeply philosophical question that has been pondered by thinkers, theologians, and scientists for centuries. Answers can vary widely depending on cultural, religious, and personal beliefs. Some common perspectives include:\n",
      "- **Religious**: Many religions offer the perspective that the meaning of life is to serve and honor a higher power or follow a divine plan.\n",
      "- **Philosophical**: Philosophers have suggested purposes ranging from seeking knowledge, achieving happiness, building meaningful relationships, or contributing to society.\n",
      "- **Scientific**: From a biological standpoint, the meaning of life may be seen as the survival and reproduction of one's genes.\n",
      "- **Personal**: Many people find meaning through personal fulfillment, such as pursuing passions, helping others, and experiencing love and joy.\n",
      "\n",
      "Ultimately, the meaning of life is a highly personal concept and can be different for everyone.\n",
      "Function call: None\n",
      "\n",
      "Question: What temperature is it in Paris?\n",
      "Answer: None\n",
      "Function call: [ChatCompletionMessageToolCall(id='call_BIUhFJp4udl268fucBoXsrlo', function=Function(arguments='{\"city\":\"Paris\"}', name='weather'), type='function')]\n",
      "\n"
     ]
    }
   ],
   "source": [
    "system_prompt = \"You are a friendly, helpful assistant. Your goal is to answer the questions in a concise, but conversational manner.\"\n",
    "\n",
    "questions = [\"what is the meaning of life?\",\"What temperature is it in Paris?\"]\n",
    "\n",
    "for question in questions:\n",
    "  messages = [\n",
    "      {\"role\": \"system\", \"content\": system_prompt},\n",
    "      {\"role\": \"user\", \"content\": question}\n",
    "    ]\n",
    "\n",
    "  \n",
    "  response = client.chat.completions.create(\n",
    "    model=\"gpt-4o\",\n",
    "    tools = callable_functions,\n",
    "    messages=messages,\n",
    "    )\n",
    "\n",
    "  print(f\"Question: {question}\")\n",
    "  print(f\"Answer: {response.choices[0].message.content}\")\n",
    "  print(f\"Function call: {response.choices[0].message.tool_calls}\\n\")"
   ]
  },
  {
   "cell_type": "markdown",
   "metadata": {},
   "source": [
    "**TASK:**  \n",
    "For the function call object above, extract the **name** and the **arguments** of the function call and print them."
   ]
  },
  {
   "cell_type": "code",
   "execution_count": 7,
   "metadata": {},
   "outputs": [
    {
     "name": "stdout",
     "output_type": "stream",
     "text": [
      "name:  weather\n",
      "arguments:  {\"city\":\"Paris\"}\n"
     ]
    }
   ],
   "source": [
    "for function in response.choices[0].message.tool_calls:\n",
    "    print('name: ', function.function.name)\n",
    "    print('arguments: ', function.function.arguments)"
   ]
  },
  {
   "cell_type": "markdown",
   "metadata": {},
   "source": [
    "---\n",
    "\n",
    "## The Agent - a fancy while loop\n",
    "\n",
    "While the LLM requests function calls we \n",
    "* **extract** the **name and arguments** to be called from the initial LLM response,\n",
    "* **execute** the **function calls**,\n",
    "* **store** the **output of the function** in the messages object,\n",
    "* invoke the LLM again, until no function call are requested.\n",
    "\n",
    "For more details, you can also check out this [OpenAI function calling guide](https://platform.openai.com/docs/guides/function-calling)."
   ]
  },
  {
   "cell_type": "markdown",
   "metadata": {},
   "source": [
    "#### Exercise 3: Understanding the agent while-loop <a id='3'></a>\n",
    "\n",
    "**TASK:**\n",
    "Complete the code below, then compile the question and investigate the output. Do you understand what you see?"
   ]
  },
  {
   "cell_type": "code",
   "execution_count": 8,
   "metadata": {},
   "outputs": [
    {
     "name": "stdout",
     "output_type": "stream",
     "text": [
      "==== Initial LLM response ====\n",
      "Answer: None\n",
      "Function call: [ChatCompletionMessageToolCall(id='call_5T4BsK6tLb8ROh47okDUmdOy', function=Function(arguments='{\"query\":\"Paris\"}', name='wikipedia'), type='function')]\n",
      "\n",
      "==== Function call ====\n",
      "Calling function \"wikipedia\" with arguments {'query': 'Paris'}.\n",
      "Function call response:\n",
      "Page: Paris\n",
      "Summary: Paris (French pronunciation: [paʁi] ) is the capital and largest city of France. With an official estimated population of 2,102,650 residents in January 2023 in an area of more than 105 km2 (41 sq mi), Paris is the fourth-largest city in the European Union and the 30th most densely populated city in the world in 2022. Since the 17th century, Paris has been one of the world's major centres of finance, diplomacy, commerce, culture, fashion, and gastronomy. For its leading role in the arts and sciences, as well as its early and extensive system of street lighting, in the 19th century, it became known as the City of Light.\n",
      "The City of Paris is the centre of the Île-de-France region, or Paris Region, with an official estimated population of 12,271,794 inhabitants in January 2023, or about 19% of the population of France. The Paris Region had a GDP of €765 billion (US$1.064 trillion, PPP) in 2021, the highest in the European Union. According to the Economist Intelligence Unit Worldwide Cost of Living Survey, in 2022, Paris was the city with the ninth-highest cost of living in the world.\n",
      "Paris is a major railway, highway, and air-transport hub served by two international airports: Charles de Gaulle Airport, the third-busiest airport in Europe, and Orly Airport. Opened in 1900, the city's subway system, the Paris Métro, serves 5.23 million passengers daily. It is the second-busiest metro system in Europe after the Moscow Metro. Gare du Nord is the 24th-busiest railway station in the world and the busiest outside Japan, with 262 million passengers in 2015. Paris has one of the most sustainable transportation systems and is one of only two cities in the world that received the Sustainable Transport Award twice.\n",
      "Paris is known for its museums and architectural landmarks: the Louvre received 8.9 million visitors in 2023, on track for keeping its position as the most-visited art museum in the world. The Musée d'Orsay, Musée Marmottan Monet and Musée de l'Orangerie are noted for their collections of French Impressionist art. The Pompidou Centre Musée National d'Art Moderne, Musée Rodin and Musée Picasso are noted for their collections of modern and contemporary art. The historical district along the Seine in the city centre has been classified as a UNESCO World Heritage Site since 1991.\n",
      "Paris is home to several United Nations organizations including UNESCO, as well as other international organizations such as the OECD, the OECD Development Centre, the International Bureau of Weights and Measures, the International Energy Agency, the International Federation for Human Rights, along with European bodies such as the European Space Agency, the European Banking Authority and the European Securities and Markets Authority. The football club Paris Saint-Germain and the rugby union club Stade Français are based in Paris. The 81,000-seat Stade de France, built for the 1998 FIFA World Cup, is located just north of Paris in the neighbouring commune of Saint-Denis. Paris hosts the annual French Open Grand Slam tennis tournament on the red clay of Roland Garros. Paris hosted the 1900, the 1924, and the 2024 Summer Olympics. The 1938 and 1998 FIFA World Cups, the 2019 FIFA Women's World Cup, the 2007 Rugby World Cup, as well as the 1960, 1984 and 2016 UEFA European Championships were held in Paris. Every July, the Tour de France bicycle race finishes on the Avenue des Champs-Élysées in Paris.\n",
      "\n",
      "==== Intermediate LLM response ====\n",
      "Answer: None \n",
      "Function call: [ChatCompletionMessageToolCall(id='call_SiFgTq5X8LbZBxMeIrGy4Gnu', function=Function(arguments='{\"query\":\"Munich\"}', name='wikipedia'), type='function')]\n",
      "\n",
      "==== Function call ====\n",
      "Calling function \"wikipedia\" with arguments {'query': 'Munich'}.\n",
      "Function call response:\n",
      "Page: Munich\n",
      "Summary: Munich ( MEW-nikh; German: München [ˈmʏnçn̩] ) is the capital and most populous city of the Free State of Bavaria, Germany. With a population of 1,594,632 inhabitants as of 31 May 2024, it is the third-largest city by population in Germany, after Berlin and Hamburg, and thus the largest which does not constitute its own state, as well as the 11th-largest city in the European Union. The Munich metropolitan area - including suburbs and satellite towns - has \n",
      "3 million inhabitants; and the city's metropolitan region is home to about 6.2 million people and the third largest metropolitan region by GDP in the European Union.\n",
      "Straddling the banks of the river Isar north of the Alps, Munich is the seat of the Bavarian administrative region of Upper Bavaria, while being the most densely populated municipality in Germany with 4,500 people per km2. Munich is the second-largest city in the Bavarian dialect area, after the Austrian capital of Vienna.\n",
      "The city was first mentioned in 1158. Catholic Munich strongly resisted the Reformation and was a political point of divergence during the resulting Thirty Years' War, but remained physically untouched despite an occupation by the Protestant Swedes. Once Bavaria was established as the Kingdom of Bavaria in 1806, Munich became a major European centre of arts, architecture, culture and science. In 1918, during the German Revolution of 1918–19, the ruling House of Wittelsbach, which had governed Bavaria since 1180, was forced to abdicate in Munich and a short-lived Bavarian Soviet Republic was declared. In the 1920s, Munich became home to several political factions, among them the Nazi Party. After the Nazis' rise to power, Munich was declared their \"Capital of the Movement\". The city was heavily bombed during World War II, but has restored most of its old town and boasts nearly 30.000 buildings from before the war all over the city. After the end of postwar American occupation in 1949, there was a great increase in population and economic power during the years of Wirtschaftswunder. The city hosted the 1972 Summer Olympics.\n",
      "Today, Munich is a global centre of science, technology, finance, innovation, business, and tourism. Munich enjoys a very high standard and quality of living, reaching first in Germany and third worldwide according to the 2018 Mercer survey, and being rated the world's most liveable city by the Monocle's Quality of Life Survey 2018. Munich is consistently ranked as one of the most expensive cities in Germany in terms of real estate prices and rental costs.\n",
      "In 2021, 28.8 percent of Munich's residents were foreigners, and another 17.7 percent were German citizens with a migration background from a foreign country. Munich's economy is based on high tech, automobiles, and the service sector, as well as IT, biotechnology, engineering, and electronics. It has one of the strongest economies of any German city and the lowest unemployment rate of all cities in Germany with more than one million inhabitants. The city houses many multinational companies, such as BMW, Siemens, Allianz SE and Munich Re. In addition, Munich is home to two research universities, and a multitude of scientific institutions. Munich's numerous architectural and cultural attractions, sports events, exhibitions and its annual Oktoberfest, the world's largest Volksfest, attract considerable tourism.\n",
      "\n",
      "\n",
      "\n",
      "==== Intermediate LLM response ====\n",
      "Answer: Paris is the larger city. As of January 2023, Paris has an official population of around 2,102,650 residents within its 105 km² area. In comparison, Munich has a population of approximately 1,594,632 inhabitants as of May 2024 in a larger area, but the core city area itself is smaller in population density.\n",
      "\n",
      "Additionally, the metropolitan area of Paris is significantly larger with about 12.3 million people, compared to Munich's metropolitan region, which has around 6.2 million people. \n",
      "Function call: None\n",
      "\n",
      "==== Final LLM response ====\n",
      "Question:  which city is bigger: Paris or Munich?\n",
      "Answer: Paris is the larger city. As of January 2023, Paris has an official population of around 2,102,650 residents within its 105 km² area. In comparison, Munich has a population of approximately 1,594,632 inhabitants as of May 2024 in a larger area, but the core city area itself is smaller in population density.\n",
      "\n",
      "Additionally, the metropolitan area of Paris is significantly larger with about 12.3 million people, compared to Munich's metropolitan region, which has around 6.2 million people.\n",
      "Function call: None\n",
      "\n"
     ]
    }
   ],
   "source": [
    "question = \"which city is bigger: Paris or Munich?\"\n",
    "\n",
    "messages = [\n",
    "      {\"role\": \"system\", \"content\": system_prompt},\n",
    "      {\"role\": \"user\", \"content\": question}\n",
    "    ]\n",
    "\n",
    "response = client.chat.completions.create(\n",
    "  model=\"gpt-4o\",\n",
    "  tools = callable_functions,\n",
    "  messages=messages, \n",
    "  tool_choice='required'\n",
    "  )\n",
    "\n",
    "print('==== Initial LLM response ====')\n",
    "print(f\"Answer: {response.choices[0].message.content}\")\n",
    "print(f\"Function call: {response.choices[0].message.tool_calls}\\n\")\n",
    "\n",
    "# while the response requests function calls\n",
    "while response.choices[0].message.tool_calls:\n",
    "    \n",
    "  # store response message with all function calls\n",
    "  response_message = response.choices[0].message\n",
    "  messages.append(response_message)\n",
    "\n",
    "  # execute each tool individually\n",
    "  for tool_call in response.choices[0].message.tool_calls:\n",
    "    print('==== Function call ====')\n",
    "\n",
    "    # function name and arguments\n",
    "    function_name = tool_call.function.name\n",
    "    function_args = json.loads(tool_call.function.arguments)\n",
    "    print(f'Calling function \"{function_name}\" with arguments {function_args}.')\n",
    "\n",
    "    # execute function call \n",
    "    function_response = available_functions[function_name].invoke(function_args)\n",
    "    print(f'Function call response:\\n{function_response}\\n')\n",
    "\n",
    "    # append function response to messages\n",
    "    messages.append({\n",
    "        \"tool_call_id\":tool_call.id, \n",
    "        \"role\": \"tool\", \n",
    "        \"name\": function_name, \n",
    "        \"content\": function_response\n",
    "    })\n",
    "    \n",
    "  # get a new response from LLM\n",
    "  response = client.chat.completions.create(\n",
    "    model=\"gpt-4o\",\n",
    "    tools = callable_functions,\n",
    "    messages=messages, \n",
    "  )\n",
    "\n",
    "  print('==== Intermediate LLM response ====')\n",
    "  print(f\"Answer: {response.choices[0].message.content} \")\n",
    "  print(f\"Function call: {response.choices[0].message.tool_calls }\\n\")\n",
    "\n",
    "print('==== Final LLM response ====')\n",
    "print(\"Question: \", question)\n",
    "print(f\"Answer: {response.choices[0].message.content}\")\n",
    "print(f\"Function call: {response.choices[0].message.tool_calls}\\n\")"
   ]
  },
  {
   "cell_type": "markdown",
   "metadata": {},
   "source": [
    "🌟 Congratulations - you've finished the workshop"
   ]
  }
 ],
 "metadata": {
  "kernelspec": {
   "display_name": "Python 3",
   "language": "python",
   "name": "python3"
  },
  "language_info": {
   "codemirror_mode": {
    "name": "ipython",
    "version": 3
   },
   "file_extension": ".py",
   "mimetype": "text/x-python",
   "name": "python",
   "nbconvert_exporter": "python",
   "pygments_lexer": "ipython3",
   "version": "3.12.3"
  }
 },
 "nbformat": 4,
 "nbformat_minor": 2
}
